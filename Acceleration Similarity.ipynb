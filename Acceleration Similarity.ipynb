{
 "cells": [
  {
   "cell_type": "code",
   "execution_count": 1,
   "metadata": {
    "ExecuteTime": {
     "end_time": "2021-06-25T17:25:01.972349Z",
     "start_time": "2021-06-25T17:25:01.172347Z"
    },
    "collapsed": true
   },
   "outputs": [],
   "source": [
    "import numpy as np\n",
    "import pandas as pd\n",
    "import matplotlib.pyplot as plt\n",
    "\n",
    "%matplotlib inline"
   ]
  },
  {
   "cell_type": "markdown",
   "metadata": {},
   "source": [
    "## Problem:\n",
    "\n",
    "Design an experiment to identify existing users based on their accelerometer data.\n",
    "\n",
    "## Data:\n",
    "\n",
    "22 csv files, one for each participant, each containing timestamp, x-, y-, and z-acceleration. In the experiment, the device is held consistently in the front chest pocket of the participant. The *should* mean that the x-, y-, and z-axes are consistent from user to user, however, that may prove to be a stretch. The length of each time series also varies significantly, from as little as 10-20 seconds of usable data, up to several minutes. \n",
    "\n",
    "## Experiment Design:\n",
    "\n",
    "We want to match test data from users with the same users in our database, so we'll split each time series into a training and test section. The first 80% of each time series will be used for training, and the last 20% will be set aside for testing. We're essentially looking for similarities between the test and training sets, so clustering and/or similarity-identifying (Euclidean distance, cosine similarity, etc) models or metrics will likely be used. \n",
    "\n",
    "## Approach:\n",
    "\n",
    "At first glance, two approaches seem feasible. \n",
    "\n",
    "First, we could try to build a black-box model that looks at the raw time-series data directly. This could potentially identify complex patterns in the acceleration data that aren't captured by simple metrics. It would also be quite a challenge, and with only 22 participants, could easily overfit the data, or use an artifact from data collection to base its predictions on. \n",
    "\n",
    "Second, we could engineer more general features by hand that make intuitive sense (average acceleration amplitude, period/cadence of gait), and then apply a simple similarity metric to weigh each test case against each of the participants. \n",
    "\n",
    "Better to start simple to get some kind of reasonable result before moving to a complicated model, so I'll start with the second approach of feature engineering and a simple metric.\n",
    "\n",
    "## Evaluation:\n",
    "\n",
    "How will we know if the model is working? First, given a random test participant, we can calculate the similarity score for every training example, and see which training participant is the most similar to the test participant. If the correct participant is near the top of the list each time, we're at least on the right track.\n",
    "\n",
    "Beyond that, we could define a custom metric to look at how much better the \"right\" solution is that the median, and perhaps turn that into a probability prediction for with participant is our best guess to match the training data. For this short exercise, I'll start by comparing the raw metric results and using rank to see how well we did."
   ]
  },
  {
   "cell_type": "markdown",
   "metadata": {},
   "source": [
    "## Data Exploration on One Participant\n",
    "Let's start by exploring the data and producing the metrics for a single participant."
   ]
  },
  {
   "cell_type": "code",
   "execution_count": 2,
   "metadata": {
    "ExecuteTime": {
     "end_time": "2021-06-25T17:25:01.995164Z",
     "start_time": "2021-06-25T17:25:01.975381Z"
    },
    "collapsed": true
   },
   "outputs": [],
   "source": [
    "n_participant = 1\n",
    "df_raw = pd.read_csv(\"Data/\" + str(n_participant) + \".csv\", header=None, names=['t', 'x_acc', 'y_acc', 'z_acc'])"
   ]
  },
  {
   "cell_type": "code",
   "execution_count": 3,
   "metadata": {
    "ExecuteTime": {
     "end_time": "2021-06-25T17:25:02.019766Z",
     "start_time": "2021-06-25T17:25:01.999160Z"
    }
   },
   "outputs": [
    {
     "data": {
      "text/html": [
       "<div>\n",
       "<style>\n",
       "    .dataframe thead tr:only-child th {\n",
       "        text-align: right;\n",
       "    }\n",
       "\n",
       "    .dataframe thead th {\n",
       "        text-align: left;\n",
       "    }\n",
       "\n",
       "    .dataframe tbody tr th {\n",
       "        vertical-align: top;\n",
       "    }\n",
       "</style>\n",
       "<table border=\"1\" class=\"dataframe\">\n",
       "  <thead>\n",
       "    <tr style=\"text-align: right;\">\n",
       "      <th></th>\n",
       "      <th>t</th>\n",
       "      <th>x_acc</th>\n",
       "      <th>y_acc</th>\n",
       "      <th>z_acc</th>\n",
       "    </tr>\n",
       "  </thead>\n",
       "  <tbody>\n",
       "    <tr>\n",
       "      <th>0</th>\n",
       "      <td>0.000000</td>\n",
       "      <td>0.69464</td>\n",
       "      <td>3.17350</td>\n",
       "      <td>7.5048</td>\n",
       "    </tr>\n",
       "    <tr>\n",
       "      <th>1</th>\n",
       "      <td>0.030639</td>\n",
       "      <td>0.14982</td>\n",
       "      <td>3.48680</td>\n",
       "      <td>9.2755</td>\n",
       "    </tr>\n",
       "    <tr>\n",
       "      <th>2</th>\n",
       "      <td>0.069763</td>\n",
       "      <td>-0.29965</td>\n",
       "      <td>1.94770</td>\n",
       "      <td>9.1120</td>\n",
       "    </tr>\n",
       "    <tr>\n",
       "      <th>3</th>\n",
       "      <td>0.099823</td>\n",
       "      <td>-1.68890</td>\n",
       "      <td>1.41650</td>\n",
       "      <td>10.1200</td>\n",
       "    </tr>\n",
       "    <tr>\n",
       "      <th>4</th>\n",
       "      <td>0.129820</td>\n",
       "      <td>-2.17930</td>\n",
       "      <td>0.95342</td>\n",
       "      <td>10.9240</td>\n",
       "    </tr>\n",
       "  </tbody>\n",
       "</table>\n",
       "</div>"
      ],
      "text/plain": [
       "          t    x_acc    y_acc    z_acc\n",
       "0  0.000000  0.69464  3.17350   7.5048\n",
       "1  0.030639  0.14982  3.48680   9.2755\n",
       "2  0.069763 -0.29965  1.94770   9.1120\n",
       "3  0.099823 -1.68890  1.41650  10.1200\n",
       "4  0.129820 -2.17930  0.95342  10.9240"
      ]
     },
     "execution_count": 3,
     "metadata": {},
     "output_type": "execute_result"
    }
   ],
   "source": [
    "df_raw.head()"
   ]
  },
  {
   "cell_type": "code",
   "execution_count": 4,
   "metadata": {
    "ExecuteTime": {
     "end_time": "2021-06-25T17:25:02.056205Z",
     "start_time": "2021-06-25T17:25:02.025162Z"
    }
   },
   "outputs": [
    {
     "data": {
      "text/html": [
       "<div>\n",
       "<style>\n",
       "    .dataframe thead tr:only-child th {\n",
       "        text-align: right;\n",
       "    }\n",
       "\n",
       "    .dataframe thead th {\n",
       "        text-align: left;\n",
       "    }\n",
       "\n",
       "    .dataframe tbody tr th {\n",
       "        vertical-align: top;\n",
       "    }\n",
       "</style>\n",
       "<table border=\"1\" class=\"dataframe\">\n",
       "  <thead>\n",
       "    <tr style=\"text-align: right;\">\n",
       "      <th></th>\n",
       "      <th>t</th>\n",
       "      <th>x_acc</th>\n",
       "      <th>y_acc</th>\n",
       "      <th>z_acc</th>\n",
       "    </tr>\n",
       "  </thead>\n",
       "  <tbody>\n",
       "    <tr>\n",
       "      <th>count</th>\n",
       "      <td>5069.00000</td>\n",
       "      <td>5069.000000</td>\n",
       "      <td>5069.000000</td>\n",
       "      <td>5069.000000</td>\n",
       "    </tr>\n",
       "    <tr>\n",
       "      <th>mean</th>\n",
       "      <td>76.81745</td>\n",
       "      <td>-3.554254</td>\n",
       "      <td>8.557989</td>\n",
       "      <td>-0.844095</td>\n",
       "    </tr>\n",
       "    <tr>\n",
       "      <th>std</th>\n",
       "      <td>44.23811</td>\n",
       "      <td>2.486629</td>\n",
       "      <td>2.956517</td>\n",
       "      <td>2.913708</td>\n",
       "    </tr>\n",
       "    <tr>\n",
       "      <th>min</th>\n",
       "      <td>0.00000</td>\n",
       "      <td>-9.343600</td>\n",
       "      <td>0.000000</td>\n",
       "      <td>-7.927000</td>\n",
       "    </tr>\n",
       "    <tr>\n",
       "      <th>25%</th>\n",
       "      <td>38.57000</td>\n",
       "      <td>-5.284700</td>\n",
       "      <td>6.129200</td>\n",
       "      <td>-2.601500</td>\n",
       "    </tr>\n",
       "    <tr>\n",
       "      <th>50%</th>\n",
       "      <td>76.82000</td>\n",
       "      <td>-3.486800</td>\n",
       "      <td>8.921300</td>\n",
       "      <td>-1.144100</td>\n",
       "    </tr>\n",
       "    <tr>\n",
       "      <th>75%</th>\n",
       "      <td>115.01000</td>\n",
       "      <td>-2.179300</td>\n",
       "      <td>10.651000</td>\n",
       "      <td>-0.040861</td>\n",
       "    </tr>\n",
       "    <tr>\n",
       "      <th>max</th>\n",
       "      <td>154.20000</td>\n",
       "      <td>10.951000</td>\n",
       "      <td>15.786000</td>\n",
       "      <td>12.599000</td>\n",
       "    </tr>\n",
       "  </tbody>\n",
       "</table>\n",
       "</div>"
      ],
      "text/plain": [
       "                t        x_acc        y_acc        z_acc\n",
       "count  5069.00000  5069.000000  5069.000000  5069.000000\n",
       "mean     76.81745    -3.554254     8.557989    -0.844095\n",
       "std      44.23811     2.486629     2.956517     2.913708\n",
       "min       0.00000    -9.343600     0.000000    -7.927000\n",
       "25%      38.57000    -5.284700     6.129200    -2.601500\n",
       "50%      76.82000    -3.486800     8.921300    -1.144100\n",
       "75%     115.01000    -2.179300    10.651000    -0.040861\n",
       "max     154.20000    10.951000    15.786000    12.599000"
      ]
     },
     "execution_count": 4,
     "metadata": {},
     "output_type": "execute_result"
    }
   ],
   "source": [
    "df_raw.describe()"
   ]
  },
  {
   "cell_type": "code",
   "execution_count": 5,
   "metadata": {
    "ExecuteTime": {
     "end_time": "2021-06-25T17:25:02.367561Z",
     "start_time": "2021-06-25T17:25:02.060368Z"
    }
   },
   "outputs": [
    {
     "data": {
      "image/png": "[encoded data removed]",
      "text/plain": [
       "<matplotlib.figure.Figure at 0x10c4a72e8>"
      ]
     },
     "metadata": {},
     "output_type": "display_data"
    }
   ],
   "source": [
    "plt.plot(df_raw.t, df_raw.x_acc)\n",
    "plt.show()"
   ]
  },
  {
   "cell_type": "code",
   "execution_count": 6,
   "metadata": {
    "ExecuteTime": {
     "end_time": "2021-06-25T17:25:02.643718Z",
     "start_time": "2021-06-25T17:25:02.374942Z"
    }
   },
   "outputs": [
    {
     "data": {
      "image/png": "[encoded data removed]",
      "text/plain": [
       "<matplotlib.figure.Figure at 0x10c8e73c8>"
      ]
     },
     "metadata": {},
     "output_type": "display_data"
    }
   ],
   "source": [
    "plt.plot(df_raw.t, df_raw.y_acc)\n",
    "plt.show()"
   ]
  },
  {
   "cell_type": "code",
   "execution_count": 7,
   "metadata": {
    "ExecuteTime": {
     "end_time": "2021-06-25T17:25:02.835594Z",
     "start_time": "2021-06-25T17:25:02.648450Z"
    }
   },
   "outputs": [
    {
     "data": {
      "image/png": "[encoded data removed]",
      "text/plain": [
       "<matplotlib.figure.Figure at 0x10c53bcc0>"
      ]
     },
     "metadata": {},
     "output_type": "display_data"
    }
   ],
   "source": [
    "plt.plot(df_raw.t, df_raw.z_acc)\n",
    "plt.show()"
   ]
  },
  {
   "cell_type": "markdown",
   "metadata": {},
   "source": [
    "It looks like there is significant noise at the beginning and end of the experiment. We'll have to trim each time-series before we begin our analysis. For this example, we'll be using 25 < t < 135. If we were to productionalize this model to thousands of participants, we could write code to do this automatically, but for 22 cases I'll just do it by hand.\n",
    "\n",
    "NB: There are several participants with significantly shorter time series. It shouldn't be too much of an issue for our approach, but definitely something we'd need to consider if we were building a more sensitive solution or attempting pattern recognition."
   ]
  },
  {
   "cell_type": "code",
   "execution_count": 8,
   "metadata": {
    "ExecuteTime": {
     "end_time": "2021-06-25T17:25:02.874998Z",
     "start_time": "2021-06-25T17:25:02.842765Z"
    },
    "collapsed": true
   },
   "outputs": [],
   "source": [
    "# I've gone ahead and built a cropping dictionary by hand for later...\n",
    "cropping_dict = {1: (25, 135),\n",
    "                 2: (60, 125),\n",
    "                 3: (8, 25),\n",
    "                 4: (10, 160),\n",
    "                 5: (4, 17),\n",
    "                 6: (10, 140),\n",
    "                 7: (10, 100),\n",
    "                 8: (15, 85),\n",
    "                 9: (10, 180),\n",
    "                 10: (5, 90),\n",
    "                 11: (15, 160),\n",
    "                 12: (5, 90),\n",
    "                 13: (20, 115),\n",
    "                 14: (10, 115),\n",
    "                 15: (25, 100),\n",
    "                 16: (18, 46),\n",
    "                 17: (100, 280),\n",
    "                 18: (200, 300),\n",
    "                 19: (3, 18),\n",
    "                 20: (50, 250),\n",
    "                 21: (5, 50),\n",
    "                 22: (10, 120)}\n",
    "\n",
    "df_trim = df_raw[(df_raw.t > cropping_dict[n_participant][0]) & (df_raw.t < cropping_dict[n_participant][1])]"
   ]
  },
  {
   "cell_type": "code",
   "execution_count": 9,
   "metadata": {
    "ExecuteTime": {
     "end_time": "2021-06-25T17:25:03.053227Z",
     "start_time": "2021-06-25T17:25:02.878540Z"
    }
   },
   "outputs": [
    {
     "data": {
      "image/png": "[encoded data removed]",
      "text/plain": [
       "<matplotlib.figure.Figure at 0x10c746400>"
      ]
     },
     "metadata": {},
     "output_type": "display_data"
    }
   ],
   "source": [
    "# Zooming into the beginning of the series:\n",
    "plt.plot(df_trim.t[:100], df_trim.x_acc[:100], c='b')\n",
    "plt.plot(df_trim.t[:100], df_trim.y_acc[:100], c='r')\n",
    "plt.plot(df_trim.t[:100], df_trim.z_acc[:100], c='g')\n",
    "plt.show()"
   ]
  },
  {
   "cell_type": "markdown",
   "metadata": {},
   "source": [
    "Looking at the acceleration curves in detail, it is clear that there is a consistent, complex pattern of motion. This might be something our black-box method would be good at capturing, however, we'll keep that on hold for now. Also, now that we know we have a reasonably clean data set, we'll remove the test set to avoid contamination."
   ]
  },
  {
   "cell_type": "code",
   "execution_count": 10,
   "metadata": {
    "ExecuteTime": {
     "end_time": "2021-06-25T17:25:03.074134Z",
     "start_time": "2021-06-25T17:25:03.060875Z"
    },
    "collapsed": true
   },
   "outputs": [],
   "source": [
    "train_size = int(0.8 * df_trim.shape[0])\n",
    "df_train = df_trim[:train_size]\n",
    "df_test = df_trim[train_size:]"
   ]
  },
  {
   "cell_type": "markdown",
   "metadata": {},
   "source": [
    "We're told in the description of the data that these participants are walking. Assuming they are walking at a fairly consistent pace, their average acceleration in any given direction should be zero over the course of the experiment. Let's center the data around zero to reflect that."
   ]
  },
  {
   "cell_type": "code",
   "execution_count": 11,
   "metadata": {
    "ExecuteTime": {
     "end_time": "2021-06-25T17:25:03.093569Z",
     "start_time": "2021-06-25T17:25:03.077124Z"
    }
   },
   "outputs": [],
   "source": [
    "df_temp = df_train.loc[:, ['x_acc', 'y_acc', 'z_acc']].apply(lambda x: x-x.mean()).rename(columns={'x_acc':'x_cent', 'y_acc':'y_cent', 'z_acc':'z_cent'})\n",
    "\n",
    "df_train = df_train.join(df_temp)"
   ]
  },
  {
   "cell_type": "markdown",
   "metadata": {},
   "source": [
    "## Feature Engineering\n",
    "\n",
    "Potentially useful features that we could extract from the time-series:\n",
    "- average total acceleration\n",
    "- average time between observations (NB: this may be a result of the device rather than the user, so may need to be excluded)\n",
    "- period of gait in each direction\n",
    "- average peak acceleration in each direction (i.e., average max amplitude)\n",
    "- some measure of the smoothness of gait, perhaps how many times acceleration changes sign per second."
   ]
  },
  {
   "cell_type": "markdown",
   "metadata": {},
   "source": [
    "### Average Acceleration and Time Delta"
   ]
  },
  {
   "cell_type": "code",
   "execution_count": 12,
   "metadata": {
    "ExecuteTime": {
     "end_time": "2021-06-25T17:25:03.111290Z",
     "start_time": "2021-06-25T17:25:03.099044Z"
    },
    "collapsed": true
   },
   "outputs": [],
   "source": [
    "# Total Acceleration Magnitude over time:\n",
    "df_train['acc'] = np.sqrt(df_train.x_cent ** 2 + df_train.y_cent ** 2 + df_train.z_cent ** 2)"
   ]
  },
  {
   "cell_type": "code",
   "execution_count": 13,
   "metadata": {
    "ExecuteTime": {
     "end_time": "2021-06-25T17:25:03.132057Z",
     "start_time": "2021-06-25T17:25:03.113624Z"
    }
   },
   "outputs": [
    {
     "name": "stdout",
     "output_type": "stream",
     "text": [
      "Average Acceleration: 3.9167354821497358\n",
      "Average Time Step: 0.030147462277091912\n"
     ]
    }
   ],
   "source": [
    "# Metrics:\n",
    "average_acc = np.mean(df_train['acc'])\n",
    "average_delta_t = np.mean(df_train.t.diff())\n",
    "\n",
    "print('Average Acceleration:', average_acc)\n",
    "print('Average Time Step:', average_delta_t)"
   ]
  },
  {
   "cell_type": "markdown",
   "metadata": {},
   "source": [
    "### Amplitude"
   ]
  },
  {
   "cell_type": "code",
   "execution_count": 14,
   "metadata": {
    "ExecuteTime": {
     "end_time": "2021-06-25T17:25:03.155352Z",
     "start_time": "2021-06-25T17:25:03.135888Z"
    },
    "collapsed": true
   },
   "outputs": [],
   "source": [
    "# Max and min amplitudes. We'll use 90th/10th percentile values to avoid outliers.\n",
    "quant_90 = df_train.quantile(.9)\n",
    "quant_10 = df_train.quantile(.1)\n",
    "\n",
    "\n",
    "'''\n",
    "# I don't think we'll actually want to use these, as x-, y-, z-directions may not be consistent across users\n",
    "x_acc_min = quant_10.x_acc\n",
    "x_acc_max = quant_90.x_acc\n",
    "y_acc_min = quant_10.y_acc\n",
    "y_acc_max = quant_90.y_acc\n",
    "z_acc_min = quant_10.z_acc\n",
    "z_acc_max = quant_90.z_acc\n",
    "'''\n",
    "\n",
    "acc_min = quant_10.acc\n",
    "acc_max = quant_90.acc"
   ]
  },
  {
   "cell_type": "markdown",
   "metadata": {},
   "source": [
    "### Period/Frequency\n",
    "This ended up being too noisy, so I didn't include it."
   ]
  },
  {
   "cell_type": "code",
   "execution_count": 15,
   "metadata": {
    "ExecuteTime": {
     "end_time": "2021-06-25T17:25:03.202177Z",
     "start_time": "2021-06-25T17:25:03.159704Z"
    }
   },
   "outputs": [
    {
     "data": {
      "text/plain": [
       "5.850759913152561"
      ]
     },
     "execution_count": 15,
     "metadata": {},
     "output_type": "execute_result"
    }
   ],
   "source": [
    "# Quick period find using a Fourier transform\n",
    "# This could get pretty deep into signal processing, so I'll just make sure\n",
    "# I have a reasonable output and leave it at that for now\n",
    "padding = 50 # for issues around the origin...\n",
    "\n",
    "ft = np.fft.rfft(df_train.acc, axis=0)\n",
    "freqs = np.fft.rfftfreq(df_train.acc.shape[0], df_train.t.iloc[1]-df_train.t.iloc[0])\n",
    "\n",
    "ft = np.delete(ft, range(padding))\n",
    "freqs = np.delete(freqs, range(padding))\n",
    "\n",
    "mags = abs(ft)\n",
    "signal_freq = freqs[mags.argmax()]\n",
    "\n",
    "signal_freq"
   ]
  },
  {
   "cell_type": "code",
   "execution_count": 16,
   "metadata": {
    "ExecuteTime": {
     "end_time": "2021-06-25T17:25:03.428682Z",
     "start_time": "2021-06-25T17:25:03.218751Z"
    }
   },
   "outputs": [
    {
     "data": {
      "image/png": "[encoded data removed]",
      "text/plain": [
       "<matplotlib.figure.Figure at 0x10c7a62b0>"
      ]
     },
     "metadata": {},
     "output_type": "display_data"
    }
   ],
   "source": [
    "plt.plot(freqs, mags)\n",
    "plt.show()"
   ]
  },
  {
   "cell_type": "markdown",
   "metadata": {},
   "source": [
    "### Smoothness (Roughness)\n",
    "\n",
    "Let's just count up how many times the acceleration magnitude changes directions per second. We could do more research into a more generic measure, but this should work well enough for our purposes, and be consistent across our data set."
   ]
  },
  {
   "cell_type": "code",
   "execution_count": 17,
   "metadata": {
    "ExecuteTime": {
     "end_time": "2021-06-25T17:25:03.724515Z",
     "start_time": "2021-06-25T17:25:03.432253Z"
    }
   },
   "outputs": [
    {
     "data": {
      "image/png": "[encoded data removed]",
      "text/plain": [
       "<matplotlib.figure.Figure at 0x10c82b588>"
      ]
     },
     "metadata": {},
     "output_type": "display_data"
    }
   ],
   "source": [
    "plt.plot(df_train.t[:100], df_train.acc[:100])\n",
    "plt.show()"
   ]
  },
  {
   "cell_type": "code",
   "execution_count": 18,
   "metadata": {
    "ExecuteTime": {
     "end_time": "2021-06-25T17:25:03.766923Z",
     "start_time": "2021-06-25T17:25:03.731979Z"
    }
   },
   "outputs": [
    {
     "data": {
      "text/plain": [
       "13.240814469343645"
      ]
     },
     "execution_count": 18,
     "metadata": {},
     "output_type": "execute_result"
    }
   ],
   "source": [
    "# We want to count how many times the acceleration changes direction, so:\n",
    "delta_acc = df_train.acc.diff()\n",
    "# Whether acceleration is rising or falling:\n",
    "sign_acc = np.sign(delta_acc)\n",
    "# Where that sign changes:\n",
    "inflection = sign_acc.diff()\n",
    "\n",
    "total_inflection = sum(abs(inflection.dropna()))/2\n",
    "\n",
    "total_time = df_train.t.iloc[-1] - df_train.t.iloc[0]\n",
    "\n",
    "# A higher number means more bumps, so let's call it 'roughness'\n",
    "roughness = total_inflection/total_time\n",
    "roughness"
   ]
  },
  {
   "cell_type": "markdown",
   "metadata": {},
   "source": [
    "### Combine Metrics\n",
    "\n",
    "That should be enough to get us started! Let's build a dataframe with all the participants, and we can also go back later to add more features."
   ]
  },
  {
   "cell_type": "code",
   "execution_count": 19,
   "metadata": {
    "ExecuteTime": {
     "end_time": "2021-06-25T17:25:03.798419Z",
     "start_time": "2021-06-25T17:25:03.775594Z"
    },
    "collapsed": true
   },
   "outputs": [],
   "source": [
    "d = {'average_acc': average_acc,\n",
    "     'average_delta_t': average_delta_t,\n",
    "     'acc_min': acc_min,\n",
    "     'acc_max': acc_max,\n",
    "     'roughness': roughness}\n",
    "\n",
    "df_metrics = pd.DataFrame(columns=['average_acc', 'average_delta_t', 'acc_min', 'acc_max', 'roughness'])\n",
    "df_metrics.loc[n_participant] = d"
   ]
  },
  {
   "cell_type": "code",
   "execution_count": 20,
   "metadata": {
    "ExecuteTime": {
     "end_time": "2021-06-25T17:25:03.823582Z",
     "start_time": "2021-06-25T17:25:03.803822Z"
    }
   },
   "outputs": [
    {
     "data": {
      "text/html": [
       "<div>\n",
       "<style>\n",
       "    .dataframe thead tr:only-child th {\n",
       "        text-align: right;\n",
       "    }\n",
       "\n",
       "    .dataframe thead th {\n",
       "        text-align: left;\n",
       "    }\n",
       "\n",
       "    .dataframe tbody tr th {\n",
       "        vertical-align: top;\n",
       "    }\n",
       "</style>\n",
       "<table border=\"1\" class=\"dataframe\">\n",
       "  <thead>\n",
       "    <tr style=\"text-align: right;\">\n",
       "      <th></th>\n",
       "      <th>average_acc</th>\n",
       "      <th>average_delta_t</th>\n",
       "      <th>acc_min</th>\n",
       "      <th>acc_max</th>\n",
       "      <th>roughness</th>\n",
       "    </tr>\n",
       "  </thead>\n",
       "  <tbody>\n",
       "    <tr>\n",
       "      <th>1</th>\n",
       "      <td>3.916735</td>\n",
       "      <td>0.030147</td>\n",
       "      <td>1.907476</td>\n",
       "      <td>5.780055</td>\n",
       "      <td>13.240814</td>\n",
       "    </tr>\n",
       "  </tbody>\n",
       "</table>\n",
       "</div>"
      ],
      "text/plain": [
       "   average_acc  average_delta_t   acc_min   acc_max  roughness\n",
       "1     3.916735         0.030147  1.907476  5.780055  13.240814"
      ]
     },
     "execution_count": 20,
     "metadata": {},
     "output_type": "execute_result"
    }
   ],
   "source": [
    "df_metrics"
   ]
  },
  {
   "cell_type": "markdown",
   "metadata": {},
   "source": [
    "## Iterate over all data files"
   ]
  },
  {
   "cell_type": "code",
   "execution_count": 21,
   "metadata": {
    "ExecuteTime": {
     "end_time": "2021-06-25T17:25:03.954334Z",
     "start_time": "2021-06-25T17:25:03.831024Z"
    },
    "collapsed": true
   },
   "outputs": [],
   "source": [
    "def create_metrics(df):\n",
    "    # Let's put it in a function since we want to do the identical processing for train and test sets\n",
    "\n",
    "    df_temp = df.loc[:, ['x_acc', 'y_acc', 'z_acc']].apply(lambda x: x-x.mean()).rename(columns={'x_acc':'x_cent', 'y_acc':'y_cent', 'z_acc':'z_cent'})\n",
    "    df = df.join(df_temp)\n",
    "    \n",
    "    df['acc'] = np.sqrt(df.x_cent ** 2 + df.y_cent ** 2 + df.z_cent ** 2)\n",
    "    \n",
    "    average_acc = np.mean(df['acc'])\n",
    "    average_delta_t = np.mean(df.t.diff())\n",
    "\n",
    "    quant_90 = df.quantile(.9)\n",
    "    quant_10 = df.quantile(.1)\n",
    "\n",
    "    acc_min = quant_10.acc\n",
    "    acc_max = quant_90.acc\n",
    "    \n",
    "    #freq = dominant_freq(df)\n",
    "    roughness = find_roughness(df)\n",
    "\n",
    "    # Formatting for output\n",
    "    d = {'average_acc': average_acc,\n",
    "         'average_delta_t': average_delta_t,\n",
    "         'acc_min': acc_min,\n",
    "         'acc_max': acc_max,\n",
    "         'roughness': roughness}\n",
    "    \n",
    "    return d"
   ]
  },
  {
   "cell_type": "code",
   "execution_count": 22,
   "metadata": {
    "ExecuteTime": {
     "end_time": "2021-06-25T17:25:03.997674Z",
     "start_time": "2021-06-25T17:25:03.967816Z"
    }
   },
   "outputs": [],
   "source": [
    "def dominant_freq(df):\n",
    "    padding = 25 # for issues around the origin...\n",
    "\n",
    "    ft = np.fft.rfft(df.acc, axis=0)\n",
    "    freqs = np.fft.rfftfreq(df.acc.shape[0], df.t.iloc[1]-df.t.iloc[0])\n",
    "\n",
    "    ft = np.delete(ft, range(padding))\n",
    "    freqs = np.delete(freqs, range(padding))\n",
    "\n",
    "    mags = abs(ft)\n",
    "    signal_freq = freqs[mags.argmax()]\n",
    "    \n",
    "    return signal_freq"
   ]
  },
  {
   "cell_type": "code",
   "execution_count": 23,
   "metadata": {
    "ExecuteTime": {
     "end_time": "2021-06-25T17:25:04.011808Z",
     "start_time": "2021-06-25T17:25:04.001102Z"
    },
    "collapsed": true
   },
   "outputs": [],
   "source": [
    "def find_roughness(df):\n",
    "    inflection = np.sign(df.acc.diff()).diff()\n",
    "    total_inflection = sum(abs(inflection.dropna()))/2\n",
    "\n",
    "    total_time = df.t.iloc[-1] - df.t.iloc[0]\n",
    "\n",
    "    roughness = total_inflection/total_time\n",
    "    return roughness"
   ]
  },
  {
   "cell_type": "code",
   "execution_count": 24,
   "metadata": {
    "ExecuteTime": {
     "end_time": "2021-06-25T17:25:04.656174Z",
     "start_time": "2021-06-25T17:25:04.015247Z"
    },
    "scrolled": false
   },
   "outputs": [],
   "source": [
    "cols = ['average_acc', 'average_delta_t', 'acc_min', 'acc_max', 'roughness']\n",
    "df_metrics_train = pd.DataFrame(columns=cols)\n",
    "df_metrics_test = pd.DataFrame(columns=cols)\n",
    "\n",
    "\n",
    "for i in range(1, 23):\n",
    "    # Loading in data\n",
    "    n_participant = i\n",
    "    df_raw = pd.read_csv(\"Data/\" + str(n_participant) + \".csv\", header=None, names=['t', 'x_acc', 'y_acc', 'z_acc'])\n",
    "\n",
    "    # Shaping dataframe\n",
    "    df_trim = df_raw[(df_raw.t > cropping_dict[n_participant][0]) & (df_raw.t < cropping_dict[n_participant][1])]\n",
    "\n",
    "    train_size = int(0.8 * df_trim.shape[0])\n",
    "    df_train = df_trim[:train_size]\n",
    "    df_test = df_trim[train_size:]\n",
    "\n",
    "    # Running metrics on train and test sets\n",
    "    d_train = create_metrics(df_train)\n",
    "    d_test = create_metrics(df_test)\n",
    "\n",
    "    df_metrics_train.loc[n_participant] = d_train\n",
    "    df_metrics_test.loc[n_participant] = d_test"
   ]
  },
  {
   "cell_type": "code",
   "execution_count": 25,
   "metadata": {
    "ExecuteTime": {
     "end_time": "2021-06-25T17:25:04.674381Z",
     "start_time": "2021-06-25T17:25:04.658824Z"
    }
   },
   "outputs": [
    {
     "data": {
      "text/html": [
       "<div>\n",
       "<style>\n",
       "    .dataframe thead tr:only-child th {\n",
       "        text-align: right;\n",
       "    }\n",
       "\n",
       "    .dataframe thead th {\n",
       "        text-align: left;\n",
       "    }\n",
       "\n",
       "    .dataframe tbody tr th {\n",
       "        vertical-align: top;\n",
       "    }\n",
       "</style>\n",
       "<table border=\"1\" class=\"dataframe\">\n",
       "  <thead>\n",
       "    <tr style=\"text-align: right;\">\n",
       "      <th></th>\n",
       "      <th>average_acc</th>\n",
       "      <th>average_delta_t</th>\n",
       "      <th>acc_min</th>\n",
       "      <th>acc_max</th>\n",
       "      <th>roughness</th>\n",
       "    </tr>\n",
       "  </thead>\n",
       "  <tbody>\n",
       "    <tr>\n",
       "      <th>1</th>\n",
       "      <td>3.916735</td>\n",
       "      <td>0.030147</td>\n",
       "      <td>1.907476</td>\n",
       "      <td>5.780055</td>\n",
       "      <td>13.240814</td>\n",
       "    </tr>\n",
       "    <tr>\n",
       "      <th>2</th>\n",
       "      <td>2.874288</td>\n",
       "      <td>0.031797</td>\n",
       "      <td>1.425900</td>\n",
       "      <td>4.624109</td>\n",
       "      <td>12.082597</td>\n",
       "    </tr>\n",
       "    <tr>\n",
       "      <th>3</th>\n",
       "      <td>3.163070</td>\n",
       "      <td>0.030621</td>\n",
       "      <td>1.506851</td>\n",
       "      <td>5.510093</td>\n",
       "      <td>10.910705</td>\n",
       "    </tr>\n",
       "    <tr>\n",
       "      <th>4</th>\n",
       "      <td>3.797177</td>\n",
       "      <td>0.030913</td>\n",
       "      <td>0.968969</td>\n",
       "      <td>6.468231</td>\n",
       "      <td>13.873316</td>\n",
       "    </tr>\n",
       "    <tr>\n",
       "      <th>5</th>\n",
       "      <td>9.407495</td>\n",
       "      <td>0.031235</td>\n",
       "      <td>5.311086</td>\n",
       "      <td>14.984453</td>\n",
       "      <td>11.764819</td>\n",
       "    </tr>\n",
       "  </tbody>\n",
       "</table>\n",
       "</div>"
      ],
      "text/plain": [
       "   average_acc  average_delta_t   acc_min    acc_max  roughness\n",
       "1     3.916735         0.030147  1.907476   5.780055  13.240814\n",
       "2     2.874288         0.031797  1.425900   4.624109  12.082597\n",
       "3     3.163070         0.030621  1.506851   5.510093  10.910705\n",
       "4     3.797177         0.030913  0.968969   6.468231  13.873316\n",
       "5     9.407495         0.031235  5.311086  14.984453  11.764819"
      ]
     },
     "execution_count": 25,
     "metadata": {},
     "output_type": "execute_result"
    }
   ],
   "source": [
    "df_metrics_train.head()"
   ]
  },
  {
   "cell_type": "code",
   "execution_count": 26,
   "metadata": {
    "ExecuteTime": {
     "end_time": "2021-06-25T17:25:04.701497Z",
     "start_time": "2021-06-25T17:25:04.678188Z"
    }
   },
   "outputs": [
    {
     "data": {
      "text/html": [
       "<div>\n",
       "<style>\n",
       "    .dataframe thead tr:only-child th {\n",
       "        text-align: right;\n",
       "    }\n",
       "\n",
       "    .dataframe thead th {\n",
       "        text-align: left;\n",
       "    }\n",
       "\n",
       "    .dataframe tbody tr th {\n",
       "        vertical-align: top;\n",
       "    }\n",
       "</style>\n",
       "<table border=\"1\" class=\"dataframe\">\n",
       "  <thead>\n",
       "    <tr style=\"text-align: right;\">\n",
       "      <th></th>\n",
       "      <th>average_acc</th>\n",
       "      <th>average_delta_t</th>\n",
       "      <th>acc_min</th>\n",
       "      <th>acc_max</th>\n",
       "      <th>roughness</th>\n",
       "    </tr>\n",
       "  </thead>\n",
       "  <tbody>\n",
       "    <tr>\n",
       "      <th>1</th>\n",
       "      <td>4.136701</td>\n",
       "      <td>0.030206</td>\n",
       "      <td>1.963172</td>\n",
       "      <td>6.136358</td>\n",
       "      <td>13.487738</td>\n",
       "    </tr>\n",
       "    <tr>\n",
       "      <th>2</th>\n",
       "      <td>2.012528</td>\n",
       "      <td>0.033235</td>\n",
       "      <td>1.011961</td>\n",
       "      <td>3.212294</td>\n",
       "      <td>12.035661</td>\n",
       "    </tr>\n",
       "    <tr>\n",
       "      <th>3</th>\n",
       "      <td>3.114472</td>\n",
       "      <td>0.033148</td>\n",
       "      <td>1.386137</td>\n",
       "      <td>5.162460</td>\n",
       "      <td>10.055866</td>\n",
       "    </tr>\n",
       "    <tr>\n",
       "      <th>4</th>\n",
       "      <td>2.979988</td>\n",
       "      <td>0.031491</td>\n",
       "      <td>0.417213</td>\n",
       "      <td>5.619280</td>\n",
       "      <td>14.595661</td>\n",
       "    </tr>\n",
       "    <tr>\n",
       "      <th>5</th>\n",
       "      <td>8.550391</td>\n",
       "      <td>0.031145</td>\n",
       "      <td>4.620824</td>\n",
       "      <td>13.653342</td>\n",
       "      <td>8.123791</td>\n",
       "    </tr>\n",
       "  </tbody>\n",
       "</table>\n",
       "</div>"
      ],
      "text/plain": [
       "   average_acc  average_delta_t   acc_min    acc_max  roughness\n",
       "1     4.136701         0.030206  1.963172   6.136358  13.487738\n",
       "2     2.012528         0.033235  1.011961   3.212294  12.035661\n",
       "3     3.114472         0.033148  1.386137   5.162460  10.055866\n",
       "4     2.979988         0.031491  0.417213   5.619280  14.595661\n",
       "5     8.550391         0.031145  4.620824  13.653342   8.123791"
      ]
     },
     "execution_count": 26,
     "metadata": {},
     "output_type": "execute_result"
    }
   ],
   "source": [
    "df_metrics_test.head()"
   ]
  },
  {
   "cell_type": "markdown",
   "metadata": {},
   "source": [
    "## Normalization\n",
    "\n",
    "In order to treat each column with the same weight, we should normalize the training set by column, and then apply those same weights to the test set."
   ]
  },
  {
   "cell_type": "code",
   "execution_count": 27,
   "metadata": {
    "ExecuteTime": {
     "end_time": "2021-06-25T17:25:04.745898Z",
     "start_time": "2021-06-25T17:25:04.704986Z"
    }
   },
   "outputs": [
    {
     "data": {
      "text/html": [
       "<div>\n",
       "<style>\n",
       "    .dataframe thead tr:only-child th {\n",
       "        text-align: right;\n",
       "    }\n",
       "\n",
       "    .dataframe thead th {\n",
       "        text-align: left;\n",
       "    }\n",
       "\n",
       "    .dataframe tbody tr th {\n",
       "        vertical-align: top;\n",
       "    }\n",
       "</style>\n",
       "<table border=\"1\" class=\"dataframe\">\n",
       "  <thead>\n",
       "    <tr style=\"text-align: right;\">\n",
       "      <th></th>\n",
       "      <th>average_acc</th>\n",
       "      <th>average_delta_t</th>\n",
       "      <th>acc_min</th>\n",
       "      <th>acc_max</th>\n",
       "      <th>roughness</th>\n",
       "    </tr>\n",
       "  </thead>\n",
       "  <tbody>\n",
       "    <tr>\n",
       "      <th>1</th>\n",
       "      <td>0.271869</td>\n",
       "      <td>-1.447062</td>\n",
       "      <td>0.389001</td>\n",
       "      <td>0.050766</td>\n",
       "      <td>0.004660</td>\n",
       "    </tr>\n",
       "    <tr>\n",
       "      <th>2</th>\n",
       "      <td>-0.428091</td>\n",
       "      <td>1.302857</td>\n",
       "      <td>-0.123596</td>\n",
       "      <td>-0.447424</td>\n",
       "      <td>-0.865435</td>\n",
       "    </tr>\n",
       "    <tr>\n",
       "      <th>3</th>\n",
       "      <td>-0.234186</td>\n",
       "      <td>-0.656819</td>\n",
       "      <td>-0.037431</td>\n",
       "      <td>-0.065582</td>\n",
       "      <td>-1.745802</td>\n",
       "    </tr>\n",
       "    <tr>\n",
       "      <th>4</th>\n",
       "      <td>0.191590</td>\n",
       "      <td>-0.170535</td>\n",
       "      <td>-0.609961</td>\n",
       "      <td>0.347355</td>\n",
       "      <td>0.479818</td>\n",
       "    </tr>\n",
       "    <tr>\n",
       "      <th>5</th>\n",
       "      <td>3.958681</td>\n",
       "      <td>0.365585</td>\n",
       "      <td>4.011857</td>\n",
       "      <td>4.017672</td>\n",
       "      <td>-1.104161</td>\n",
       "    </tr>\n",
       "  </tbody>\n",
       "</table>\n",
       "</div>"
      ],
      "text/plain": [
       "   average_acc  average_delta_t   acc_min   acc_max  roughness\n",
       "1     0.271869        -1.447062  0.389001  0.050766   0.004660\n",
       "2    -0.428091         1.302857 -0.123596 -0.447424  -0.865435\n",
       "3    -0.234186        -0.656819 -0.037431 -0.065582  -1.745802\n",
       "4     0.191590        -0.170535 -0.609961  0.347355   0.479818\n",
       "5     3.958681         0.365585  4.011857  4.017672  -1.104161"
      ]
     },
     "execution_count": 27,
     "metadata": {},
     "output_type": "execute_result"
    }
   ],
   "source": [
    "# We'll just do Z-Normalization\n",
    "mean_vals = df_metrics_train.mean()\n",
    "std_vals = df_metrics_train.std()\n",
    "\n",
    "df_train_norm = (df_metrics_train - mean_vals) / std_vals\n",
    "df_test_norm = (df_metrics_test - mean_vals) / std_vals\n",
    "\n",
    "df_train_norm.head()"
   ]
  },
  {
   "cell_type": "markdown",
   "metadata": {},
   "source": [
    "## Similarity Model\n",
    "\n",
    "We'll start with a Euclidean Distance and Cosine Similarity to get a score for each training set participant, given a random test set participant."
   ]
  },
  {
   "cell_type": "code",
   "execution_count": 28,
   "metadata": {
    "ExecuteTime": {
     "end_time": "2021-06-25T17:25:05.166951Z",
     "start_time": "2021-06-25T17:25:04.750301Z"
    },
    "collapsed": true
   },
   "outputs": [],
   "source": [
    "import sklearn.metrics.pairwise as skl_pairs\n",
    "import random"
   ]
  },
  {
   "cell_type": "code",
   "execution_count": 29,
   "metadata": {
    "ExecuteTime": {
     "end_time": "2021-06-25T17:25:05.181040Z",
     "start_time": "2021-06-25T17:25:05.170205Z"
    },
    "collapsed": true
   },
   "outputs": [],
   "source": [
    "cos_sim = skl_pairs.cosine_similarity\n",
    "euc_dis = skl_pairs.euclidean_distances"
   ]
  },
  {
   "cell_type": "code",
   "execution_count": 30,
   "metadata": {
    "ExecuteTime": {
     "end_time": "2021-06-25T17:25:05.211112Z",
     "start_time": "2021-06-25T17:25:05.183153Z"
    }
   },
   "outputs": [],
   "source": [
    "n = random.randint(1,22)\n",
    "#n = 14\n",
    "\n",
    "X = df_test_norm.loc[n].values.reshape(1, -1)\n",
    "Y = df_train_norm\n",
    "\n",
    "euc = euc_dis(X, Y)\n",
    "cos = cos_sim(X, Y)\n",
    "\n",
    "df_sim = pd.DataFrame(index=range(1,23))\n",
    "df_sim['euc'] = euc[0]\n",
    "df_sim['cos'] = cos[0]\n",
    "# Estimate strength is roughly \"How much better than the median of Euc distance\"\n",
    "df_sim['estimate_strength'] = df_sim.apply(lambda x: 1 - (x/x.median()))['euc']"
   ]
  },
  {
   "cell_type": "code",
   "execution_count": 31,
   "metadata": {
    "ExecuteTime": {
     "end_time": "2021-06-25T17:25:05.237606Z",
     "start_time": "2021-06-25T17:25:05.213433Z"
    }
   },
   "outputs": [
    {
     "name": "stdout",
     "output_type": "stream",
     "text": [
      "Actual participant: 5\n"
     ]
    },
    {
     "data": {
      "text/html": [
       "<div>\n",
       "<style>\n",
       "    .dataframe thead tr:only-child th {\n",
       "        text-align: right;\n",
       "    }\n",
       "\n",
       "    .dataframe thead th {\n",
       "        text-align: left;\n",
       "    }\n",
       "\n",
       "    .dataframe tbody tr th {\n",
       "        vertical-align: top;\n",
       "    }\n",
       "</style>\n",
       "<table border=\"1\" class=\"dataframe\">\n",
       "  <thead>\n",
       "    <tr style=\"text-align: right;\">\n",
       "      <th></th>\n",
       "      <th>euc</th>\n",
       "      <th>cos</th>\n",
       "      <th>estimate_strength</th>\n",
       "    </tr>\n",
       "  </thead>\n",
       "  <tbody>\n",
       "    <tr>\n",
       "      <th>5</th>\n",
       "      <td>2.950322</td>\n",
       "      <td>0.911274</td>\n",
       "      <td>0.595779</td>\n",
       "    </tr>\n",
       "    <tr>\n",
       "      <th>19</th>\n",
       "      <td>6.265800</td>\n",
       "      <td>0.658162</td>\n",
       "      <td>0.141528</td>\n",
       "    </tr>\n",
       "    <tr>\n",
       "      <th>13</th>\n",
       "      <td>6.340918</td>\n",
       "      <td>0.492514</td>\n",
       "      <td>0.131236</td>\n",
       "    </tr>\n",
       "    <tr>\n",
       "      <th>16</th>\n",
       "      <td>6.432875</td>\n",
       "      <td>0.427990</td>\n",
       "      <td>0.118637</td>\n",
       "    </tr>\n",
       "    <tr>\n",
       "      <th>3</th>\n",
       "      <td>6.444595</td>\n",
       "      <td>0.412283</td>\n",
       "      <td>0.117031</td>\n",
       "    </tr>\n",
       "    <tr>\n",
       "      <th>18</th>\n",
       "      <td>6.484772</td>\n",
       "      <td>0.559999</td>\n",
       "      <td>0.111527</td>\n",
       "    </tr>\n",
       "    <tr>\n",
       "      <th>1</th>\n",
       "      <td>6.861224</td>\n",
       "      <td>0.191562</td>\n",
       "      <td>0.059949</td>\n",
       "    </tr>\n",
       "    <tr>\n",
       "      <th>7</th>\n",
       "      <td>6.910289</td>\n",
       "      <td>0.191462</td>\n",
       "      <td>0.053227</td>\n",
       "    </tr>\n",
       "    <tr>\n",
       "      <th>15</th>\n",
       "      <td>7.127238</td>\n",
       "      <td>0.044368</td>\n",
       "      <td>0.023503</td>\n",
       "    </tr>\n",
       "    <tr>\n",
       "      <th>2</th>\n",
       "      <td>7.159675</td>\n",
       "      <td>0.017747</td>\n",
       "      <td>0.019059</td>\n",
       "    </tr>\n",
       "    <tr>\n",
       "      <th>14</th>\n",
       "      <td>7.270233</td>\n",
       "      <td>-0.113786</td>\n",
       "      <td>0.003911</td>\n",
       "    </tr>\n",
       "    <tr>\n",
       "      <th>4</th>\n",
       "      <td>7.327327</td>\n",
       "      <td>-0.327644</td>\n",
       "      <td>-0.003911</td>\n",
       "    </tr>\n",
       "    <tr>\n",
       "      <th>11</th>\n",
       "      <td>7.629065</td>\n",
       "      <td>-0.707748</td>\n",
       "      <td>-0.045252</td>\n",
       "    </tr>\n",
       "    <tr>\n",
       "      <th>8</th>\n",
       "      <td>7.743750</td>\n",
       "      <td>-0.975574</td>\n",
       "      <td>-0.060965</td>\n",
       "    </tr>\n",
       "    <tr>\n",
       "      <th>22</th>\n",
       "      <td>7.803601</td>\n",
       "      <td>-0.869430</td>\n",
       "      <td>-0.069165</td>\n",
       "    </tr>\n",
       "    <tr>\n",
       "      <th>10</th>\n",
       "      <td>7.807390</td>\n",
       "      <td>-0.631954</td>\n",
       "      <td>-0.069684</td>\n",
       "    </tr>\n",
       "    <tr>\n",
       "      <th>6</th>\n",
       "      <td>8.234768</td>\n",
       "      <td>-0.724560</td>\n",
       "      <td>-0.128239</td>\n",
       "    </tr>\n",
       "    <tr>\n",
       "      <th>20</th>\n",
       "      <td>8.254546</td>\n",
       "      <td>-0.625283</td>\n",
       "      <td>-0.130949</td>\n",
       "    </tr>\n",
       "    <tr>\n",
       "      <th>17</th>\n",
       "      <td>8.344493</td>\n",
       "      <td>-0.206945</td>\n",
       "      <td>-0.143272</td>\n",
       "    </tr>\n",
       "    <tr>\n",
       "      <th>21</th>\n",
       "      <td>8.359428</td>\n",
       "      <td>-0.636274</td>\n",
       "      <td>-0.145318</td>\n",
       "    </tr>\n",
       "    <tr>\n",
       "      <th>12</th>\n",
       "      <td>8.527315</td>\n",
       "      <td>-0.758401</td>\n",
       "      <td>-0.168320</td>\n",
       "    </tr>\n",
       "    <tr>\n",
       "      <th>9</th>\n",
       "      <td>8.636286</td>\n",
       "      <td>-0.698693</td>\n",
       "      <td>-0.183251</td>\n",
       "    </tr>\n",
       "  </tbody>\n",
       "</table>\n",
       "</div>"
      ],
      "text/plain": [
       "         euc       cos  estimate_strength\n",
       "5   2.950322  0.911274           0.595779\n",
       "19  6.265800  0.658162           0.141528\n",
       "13  6.340918  0.492514           0.131236\n",
       "16  6.432875  0.427990           0.118637\n",
       "3   6.444595  0.412283           0.117031\n",
       "18  6.484772  0.559999           0.111527\n",
       "1   6.861224  0.191562           0.059949\n",
       "7   6.910289  0.191462           0.053227\n",
       "15  7.127238  0.044368           0.023503\n",
       "2   7.159675  0.017747           0.019059\n",
       "14  7.270233 -0.113786           0.003911\n",
       "4   7.327327 -0.327644          -0.003911\n",
       "11  7.629065 -0.707748          -0.045252\n",
       "8   7.743750 -0.975574          -0.060965\n",
       "22  7.803601 -0.869430          -0.069165\n",
       "10  7.807390 -0.631954          -0.069684\n",
       "6   8.234768 -0.724560          -0.128239\n",
       "20  8.254546 -0.625283          -0.130949\n",
       "17  8.344493 -0.206945          -0.143272\n",
       "21  8.359428 -0.636274          -0.145318\n",
       "12  8.527315 -0.758401          -0.168320\n",
       "9   8.636286 -0.698693          -0.183251"
      ]
     },
     "execution_count": 31,
     "metadata": {},
     "output_type": "execute_result"
    }
   ],
   "source": [
    "print(\"Actual participant:\", n)\n",
    "df_sim.sort_values(by='estimate_strength', ascending=False)"
   ]
  },
  {
   "cell_type": "code",
   "execution_count": 32,
   "metadata": {
    "ExecuteTime": {
     "end_time": "2021-06-25T17:25:05.261424Z",
     "start_time": "2021-06-25T17:25:05.247992Z"
    }
   },
   "outputs": [
    {
     "name": "stdout",
     "output_type": "stream",
     "text": [
      "Rank: 1.0 \n",
      "Score: 0.5957787233433641\n"
     ]
    }
   ],
   "source": [
    "rank = df_sim['estimate_strength'].rank(ascending=False)[n]\n",
    "score = df_sim['estimate_strength'][n]\n",
    "print(\"Rank:\", rank, \"\\nScore:\", score)"
   ]
  },
  {
   "cell_type": "markdown",
   "metadata": {},
   "source": [
    "## Evaluate Model for all Test Cases\n",
    "\n",
    "Now we'll just loop over all the test cases to see how the model did in general."
   ]
  },
  {
   "cell_type": "code",
   "execution_count": 33,
   "metadata": {
    "ExecuteTime": {
     "end_time": "2021-06-25T17:25:05.446219Z",
     "start_time": "2021-06-25T17:25:05.272673Z"
    }
   },
   "outputs": [],
   "source": [
    "df_final = pd.DataFrame(columns=['Euclidean Rank', 'Euclidean Distance', 'Cosine Rank', 'Cosine Similarity'])\n",
    "\n",
    "for i in range(1, 23):\n",
    "    \n",
    "    X = df_test_norm.loc[i].values.reshape(1, -1)\n",
    "    Y = df_train_norm\n",
    "\n",
    "    euc = euc_dis(X, Y)\n",
    "    cos = cos_sim(X, Y)\n",
    "\n",
    "    df_sim = pd.DataFrame(index=range(1,23))\n",
    "    df_sim['euc'] = euc[0]\n",
    "    df_sim['cos'] = cos[0]\n",
    "    df_sim['estimate_strength'] = df_sim.apply(lambda x: 1 - (x/x.median()))['euc']\n",
    "    \n",
    "    euc_rank = df_sim['euc'].rank(ascending=True)[i]\n",
    "    cos_rank = df_sim['cos'].rank(ascending=False)[i]\n",
    "    euc_score = df_sim['euc'][i]\n",
    "    cos_score = df_sim['cos'][i]\n",
    "    \n",
    "    df_final.loc[i] = [euc_rank, euc_score, cos_rank, cos_score]"
   ]
  },
  {
   "cell_type": "code",
   "execution_count": 34,
   "metadata": {
    "ExecuteTime": {
     "end_time": "2021-06-25T17:25:05.486823Z",
     "start_time": "2021-06-25T17:25:05.448779Z"
    }
   },
   "outputs": [
    {
     "data": {
      "text/html": [
       "<div>\n",
       "<style>\n",
       "    .dataframe thead tr:only-child th {\n",
       "        text-align: right;\n",
       "    }\n",
       "\n",
       "    .dataframe thead th {\n",
       "        text-align: left;\n",
       "    }\n",
       "\n",
       "    .dataframe tbody tr th {\n",
       "        vertical-align: top;\n",
       "    }\n",
       "</style>\n",
       "<table border=\"1\" class=\"dataframe\">\n",
       "  <thead>\n",
       "    <tr style=\"text-align: right;\">\n",
       "      <th></th>\n",
       "      <th>Euclidean Rank</th>\n",
       "      <th>Euclidean Distance</th>\n",
       "      <th>Cosine Rank</th>\n",
       "      <th>Cosine Similarity</th>\n",
       "    </tr>\n",
       "  </thead>\n",
       "  <tbody>\n",
       "    <tr>\n",
       "      <th>1</th>\n",
       "      <td>1.0</td>\n",
       "      <td>0.304577</td>\n",
       "      <td>1.0</td>\n",
       "      <td>0.979875</td>\n",
       "    </tr>\n",
       "    <tr>\n",
       "      <th>2</th>\n",
       "      <td>1.0</td>\n",
       "      <td>2.578183</td>\n",
       "      <td>1.0</td>\n",
       "      <td>0.946598</td>\n",
       "    </tr>\n",
       "    <tr>\n",
       "      <th>3</th>\n",
       "      <td>10.0</td>\n",
       "      <td>4.266155</td>\n",
       "      <td>10.0</td>\n",
       "      <td>0.236833</td>\n",
       "    </tr>\n",
       "    <tr>\n",
       "      <th>4</th>\n",
       "      <td>4.0</td>\n",
       "      <td>1.414832</td>\n",
       "      <td>5.0</td>\n",
       "      <td>0.632869</td>\n",
       "    </tr>\n",
       "    <tr>\n",
       "      <th>5</th>\n",
       "      <td>1.0</td>\n",
       "      <td>2.950322</td>\n",
       "      <td>1.0</td>\n",
       "      <td>0.911274</td>\n",
       "    </tr>\n",
       "    <tr>\n",
       "      <th>6</th>\n",
       "      <td>3.0</td>\n",
       "      <td>0.723104</td>\n",
       "      <td>3.0</td>\n",
       "      <td>0.895344</td>\n",
       "    </tr>\n",
       "    <tr>\n",
       "      <th>7</th>\n",
       "      <td>6.0</td>\n",
       "      <td>1.317331</td>\n",
       "      <td>7.0</td>\n",
       "      <td>0.511981</td>\n",
       "    </tr>\n",
       "    <tr>\n",
       "      <th>8</th>\n",
       "      <td>3.0</td>\n",
       "      <td>0.982291</td>\n",
       "      <td>10.0</td>\n",
       "      <td>0.134099</td>\n",
       "    </tr>\n",
       "    <tr>\n",
       "      <th>9</th>\n",
       "      <td>2.0</td>\n",
       "      <td>0.879966</td>\n",
       "      <td>2.0</td>\n",
       "      <td>0.945643</td>\n",
       "    </tr>\n",
       "    <tr>\n",
       "      <th>10</th>\n",
       "      <td>2.0</td>\n",
       "      <td>0.551372</td>\n",
       "      <td>2.0</td>\n",
       "      <td>0.894278</td>\n",
       "    </tr>\n",
       "    <tr>\n",
       "      <th>11</th>\n",
       "      <td>1.0</td>\n",
       "      <td>0.418187</td>\n",
       "      <td>1.0</td>\n",
       "      <td>0.947588</td>\n",
       "    </tr>\n",
       "    <tr>\n",
       "      <th>12</th>\n",
       "      <td>1.0</td>\n",
       "      <td>0.952866</td>\n",
       "      <td>1.0</td>\n",
       "      <td>0.870027</td>\n",
       "    </tr>\n",
       "    <tr>\n",
       "      <th>13</th>\n",
       "      <td>3.0</td>\n",
       "      <td>2.575910</td>\n",
       "      <td>2.0</td>\n",
       "      <td>0.781495</td>\n",
       "    </tr>\n",
       "    <tr>\n",
       "      <th>14</th>\n",
       "      <td>1.0</td>\n",
       "      <td>0.663091</td>\n",
       "      <td>1.0</td>\n",
       "      <td>0.895378</td>\n",
       "    </tr>\n",
       "    <tr>\n",
       "      <th>15</th>\n",
       "      <td>2.0</td>\n",
       "      <td>0.879379</td>\n",
       "      <td>2.0</td>\n",
       "      <td>0.864826</td>\n",
       "    </tr>\n",
       "    <tr>\n",
       "      <th>16</th>\n",
       "      <td>17.0</td>\n",
       "      <td>2.348238</td>\n",
       "      <td>12.0</td>\n",
       "      <td>-0.206101</td>\n",
       "    </tr>\n",
       "    <tr>\n",
       "      <th>17</th>\n",
       "      <td>1.0</td>\n",
       "      <td>1.539469</td>\n",
       "      <td>1.0</td>\n",
       "      <td>0.887370</td>\n",
       "    </tr>\n",
       "    <tr>\n",
       "      <th>18</th>\n",
       "      <td>1.0</td>\n",
       "      <td>0.830192</td>\n",
       "      <td>2.0</td>\n",
       "      <td>0.840471</td>\n",
       "    </tr>\n",
       "    <tr>\n",
       "      <th>19</th>\n",
       "      <td>4.0</td>\n",
       "      <td>1.690904</td>\n",
       "      <td>2.0</td>\n",
       "      <td>0.811781</td>\n",
       "    </tr>\n",
       "    <tr>\n",
       "      <th>20</th>\n",
       "      <td>1.0</td>\n",
       "      <td>0.532384</td>\n",
       "      <td>1.0</td>\n",
       "      <td>0.959221</td>\n",
       "    </tr>\n",
       "    <tr>\n",
       "      <th>21</th>\n",
       "      <td>2.0</td>\n",
       "      <td>0.967990</td>\n",
       "      <td>2.0</td>\n",
       "      <td>0.894423</td>\n",
       "    </tr>\n",
       "    <tr>\n",
       "      <th>22</th>\n",
       "      <td>9.0</td>\n",
       "      <td>4.450106</td>\n",
       "      <td>9.0</td>\n",
       "      <td>0.361416</td>\n",
       "    </tr>\n",
       "  </tbody>\n",
       "</table>\n",
       "</div>"
      ],
      "text/plain": [
       "    Euclidean Rank  Euclidean Distance  Cosine Rank  Cosine Similarity\n",
       "1              1.0            0.304577          1.0           0.979875\n",
       "2              1.0            2.578183          1.0           0.946598\n",
       "3             10.0            4.266155         10.0           0.236833\n",
       "4              4.0            1.414832          5.0           0.632869\n",
       "5              1.0            2.950322          1.0           0.911274\n",
       "6              3.0            0.723104          3.0           0.895344\n",
       "7              6.0            1.317331          7.0           0.511981\n",
       "8              3.0            0.982291         10.0           0.134099\n",
       "9              2.0            0.879966          2.0           0.945643\n",
       "10             2.0            0.551372          2.0           0.894278\n",
       "11             1.0            0.418187          1.0           0.947588\n",
       "12             1.0            0.952866          1.0           0.870027\n",
       "13             3.0            2.575910          2.0           0.781495\n",
       "14             1.0            0.663091          1.0           0.895378\n",
       "15             2.0            0.879379          2.0           0.864826\n",
       "16            17.0            2.348238         12.0          -0.206101\n",
       "17             1.0            1.539469          1.0           0.887370\n",
       "18             1.0            0.830192          2.0           0.840471\n",
       "19             4.0            1.690904          2.0           0.811781\n",
       "20             1.0            0.532384          1.0           0.959221\n",
       "21             2.0            0.967990          2.0           0.894423\n",
       "22             9.0            4.450106          9.0           0.361416"
      ]
     },
     "execution_count": 34,
     "metadata": {},
     "output_type": "execute_result"
    }
   ],
   "source": [
    "# Let's see how we did!\n",
    "# NB: I decided to keep raw Euc Distance, rather than the \"estimate strength\" metric.\n",
    "df_final"
   ]
  },
  {
   "cell_type": "markdown",
   "metadata": {
    "collapsed": true
   },
   "source": [
    "## Conclusion\n",
    "\n",
    "I ended up spending more time on feature engineering than on model building, but we've gotten to a decent 4-hour (or 6-hour) solution. We ended up with two similarity metrics, each predicting more than half of the test cases within our top 2 guesses. Cosine Similarity gave a result the same or better than Euclidean Distance in all but 3 cases. It would be interesting to look back and see what kind of samples led to those differences, as well as the cases where both metrics did poorly.  \n",
    "\n",
    "We could consider using a more complicated model, but with this particular data set, I would be hesitant to do so. By the end this process, we're working with 5 features and 22 rows of data (some of which are based on as few as 15 seconds of recording). Given how few data points we have, I actually think sticking with cosine similarity as a measure of similarity is the right choice. We could use this data set to test out ideas for a pattern-recognizing ML model, but we would ultimately need more data to get it running. Before moving to a more complicated model, I would first try to improve the feature engineering to create more, and more useful, features.\n",
    "\n",
    "Thanks for reading!"
   ]
  },
  {
   "cell_type": "code",
   "execution_count": null,
   "metadata": {
    "collapsed": true
   },
   "outputs": [],
   "source": []
  }
 ],
 "metadata": {
  "kernelspec": {
   "display_name": "Python 3",
   "language": "python",
   "name": "python3"
  },
  "language_info": {
   "codemirror_mode": {
    "name": "ipython",
    "version": 3
   },
   "file_extension": ".py",
   "mimetype": "text/x-python",
   "name": "python",
   "nbconvert_exporter": "python",
   "pygments_lexer": "ipython3",
   "version": "3.6.2"
  }
 },
 "nbformat": 4,
 "nbformat_minor": 2
}
